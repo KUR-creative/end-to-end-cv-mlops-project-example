{
 "cells": [
  {
   "cell_type": "markdown",
   "id": "1289b618",
   "metadata": {},
   "source": [
    "## 1. Setup"
   ]
  },
  {
   "cell_type": "code",
   "execution_count": 2,
   "id": "58668cc9",
   "metadata": {},
   "outputs": [],
   "source": [
    "import os\n",
    "\n",
    "import numpy as np\n",
    "import pandas as pd"
   ]
  },
  {
   "cell_type": "code",
   "execution_count": 3,
   "id": "0d98359a",
   "metadata": {},
   "outputs": [],
   "source": [
    "DATA_PATH = '../data/'\n",
    "RAW_DATA_PATH = os.path.join(DATA_PATH, 'raw')\n",
    "IMG_PATH = os.path.join(RAW_DATA_PATH, 'images')"
   ]
  },
  {
   "cell_type": "code",
   "execution_count": 4,
   "id": "54900ef1",
   "metadata": {},
   "outputs": [],
   "source": [
    "# Load a dataset with image information\n",
    "img_info_df = pd.read_csv(os.path.join(RAW_DATA_PATH, 'image_info.csv'))"
   ]
  },
  {
   "cell_type": "code",
   "execution_count": 5,
   "id": "d5d84a2e",
   "metadata": {},
   "outputs": [],
   "source": [
    "# Load a bounding box dataset\n",
    "img_bbox_df = pd.read_csv(os.path.join(RAW_DATA_PATH, 'bboxes/bounding_boxes.csv'))"
   ]
  },
  {
   "cell_type": "code",
   "execution_count": 6,
   "id": "67727688",
   "metadata": {},
   "outputs": [],
   "source": [
    "# Get a list of image names\n",
    "img_names = os.listdir(IMG_PATH)"
   ]
  },
  {
   "cell_type": "code",
   "execution_count": 7,
   "id": "f14fad9f",
   "metadata": {},
   "outputs": [],
   "source": [
    "# Create a dict of validation results for summary report\n",
    "validation_results = {}"
   ]
  },
  {
   "cell_type": "markdown",
   "id": "6df3c009",
   "metadata": {},
   "source": [
    "## 2. Create help functions"
   ]
  },
  {
   "cell_type": "code",
   "execution_count": 8,
   "id": "919f3ffc",
   "metadata": {},
   "outputs": [],
   "source": [
    "def check_that_two_sorted_lists_are_equal(l1, l2):\n",
    "    \"\"\"Returns a dict with list of non-matching items or \n",
    "    the number of duplicates, if any.\"\"\"\n",
    "    l1 = sorted(l1)\n",
    "    l2 = sorted(l2)\n",
    "    \n",
    "    if l1 == l2:\n",
    "        return {'PASS': None}\n",
    "    elif (len(set(l1)) != len(l1)) or (len(set(l2)) != len(l2)):\n",
    "        return {'WARNING: Duplicates!': len(l1 + l2) - len(set(l1)) - len(set(l2))}\n",
    "    else:        \n",
    "        not_match = list(set(l1) ^ set(l2))\n",
    "        return {'FAIL': not_match}"
   ]
  },
  {
   "cell_type": "code",
   "execution_count": 9,
   "id": "feb3cc83",
   "metadata": {},
   "outputs": [],
   "source": [
    "def check_that_series_less_or_equal(s1, s2, comparison_sign, s3=None):\n",
    "    \"\"\"Returns a dict with a list of indexes or DataFrame columns with incorrect values, if any.\n",
    "    \n",
    "    Parameters:\n",
    "    s1 -- a pd.Series object\n",
    "    s2 -- a pd.Series object or a value\n",
    "    comparison_sign -- one of '==', '<'\n",
    "    s3 -- a pd.Series object for select values by a comparison result Series.\n",
    "    \"\"\"\n",
    "    comp_result = {}\n",
    "    comp_series = 0\n",
    "    \n",
    "    # Get the result of the comparison\n",
    "    if comparison_sign == '==':\n",
    "        comp_series = s1.eq(s2)\n",
    "    elif comparison_sign == '<':\n",
    "        comp_series = s1.lt(s2) \n",
    "    elif comparison_sign == '<=':\n",
    "        comp_series = s1.le(s2) \n",
    "    else:\n",
    "        raise ValueError()         \n",
    "    \n",
    "    # Get the result\n",
    "    if comp_series.sum() == s1.shape[0]:\n",
    "        return {'PASS': None}\n",
    "    else:\n",
    "        if isinstance(s3, pd.Series):\n",
    "            s1 = s3\n",
    "        return {'FAIL': s1[~comp_series].index}\n",
    "        "
   ]
  },
  {
   "cell_type": "markdown",
   "id": "21221335",
   "metadata": {},
   "source": [
    "## 3. Check Data Consistency"
   ]
  },
  {
   "cell_type": "markdown",
   "id": "f356f2de",
   "metadata": {},
   "source": [
    "### 3.1. images vs image_info.csv"
   ]
  },
  {
   "cell_type": "code",
   "execution_count": 10,
   "id": "b8b6556d",
   "metadata": {},
   "outputs": [],
   "source": [
    "# Check whether the names of the available images are identical to the names in image_info.csv\n",
    "validation_results['Image Name and Number Match Check (info)'] = check_that_two_sorted_lists_are_equal(\n",
    "    img_info_df.Name.to_list(), \n",
    "    img_names\n",
    ")"
   ]
  },
  {
   "cell_type": "markdown",
   "id": "0e8a54f6",
   "metadata": {},
   "source": [
    "### 3.2. bounding_boxes.csv"
   ]
  },
  {
   "cell_type": "code",
   "execution_count": 11,
   "id": "3763c3b1",
   "metadata": {},
   "outputs": [],
   "source": [
    "# Check the correctness of bounding box parameters\n",
    "for bb_param, img_param in [('bbox_x', 'width'), \n",
    "                            ('bbox_y', 'height')]:\n",
    "    \n",
    "    for add_bb_param in ('', 'bbox_' + img_param):\n",
    "        add_values = 0\n",
    "        comp_bbox_img_param_result = {}\n",
    "\n",
    "        if add_bb_param:\n",
    "            add_values = img_bbox_df[add_bb_param]\n",
    "\n",
    "        comp_bbox_img_param_series = img_bbox_df[bb_param].add(add_values).le(img_bbox_df['image_' + img_param])\n",
    "    \n",
    "        if comp_bbox_img_param_series.all():\n",
    "            comp_bbox_img_param_result['PASS'] = None\n",
    "        else:\n",
    "            comp_bbox_img_param_result['FAIL'] = img_bbox_df[~comp_bbox_img_param_series].index\n",
    "        \n",
    "        validation_results[f'Bbox Parameter Check ({bb_param} + {add_bb_param})'] = comp_bbox_img_param_result"
   ]
  },
  {
   "cell_type": "code",
   "execution_count": 12,
   "id": "265828cc",
   "metadata": {},
   "outputs": [],
   "source": [
    "# Check the correctness of image parameters\n",
    "uniq_img_param_df = (img_bbox_df[['image_name', 'image_width', 'image_height']]\n",
    "                         .groupby('image_name', group_keys=True)\n",
    "                         .nunique())\n",
    "\n",
    "for img_param in ('image_width', 'image_height'):\n",
    "    validation_results[f'Image Parameter Check ({img_param})'] = check_that_series_less_or_equal(\n",
    "        uniq_img_param_df[img_param], 1, '==')"
   ]
  },
  {
   "cell_type": "markdown",
   "id": "1781a27f",
   "metadata": {},
   "source": [
    "### 3.3. images vs bounding_boxes.csv"
   ]
  },
  {
   "cell_type": "code",
   "execution_count": 13,
   "id": "68208ff0",
   "metadata": {},
   "outputs": [],
   "source": [
    "# Check whether the names of the available images are identical to the names in bounding_boxes.csv\n",
    "validation_results['Image Name and Number Match Check (bbox)'] = check_that_two_sorted_lists_are_equal(\n",
    "    img_bbox_df.image_name\n",
    "               .unique(), \n",
    "    img_names\n",
    ")"
   ]
  },
  {
   "cell_type": "markdown",
   "id": "be031406",
   "metadata": {},
   "source": [
    "### 3.4. image_info.csv vs bounding_boxes.csv"
   ]
  },
  {
   "cell_type": "code",
   "execution_count": 14,
   "id": "234e605a",
   "metadata": {},
   "outputs": [],
   "source": [
    "# Check if the number of house sparrows and the number of bounding boxes match\n",
    "number_hsparrows = img_info_df[['Name', 'Number_HSparrows']].sort_values(by='Name').set_index('Name').squeeze()\n",
    "number_bboxes = img_bbox_df['image_name'].sort_values().value_counts(sort=False)\n",
    "\n",
    "validation_results['HSparrows and Bboxes Number Check'] = check_that_series_less_or_equal(\n",
    "    number_hsparrows, number_bboxes, '==')"
   ]
  },
  {
   "cell_type": "markdown",
   "id": "d987d4a2",
   "metadata": {},
   "source": [
    "## 4. Summury Report"
   ]
  },
  {
   "cell_type": "code",
   "execution_count": 15,
   "id": "c23f18c7",
   "metadata": {},
   "outputs": [
    {
     "data": {
      "text/plain": [
       "{'Image Name and Number Match Check (info)': {'PASS': None},\n",
       " 'Bbox Parameter Check (bbox_x + )': {'PASS': None},\n",
       " 'Bbox Parameter Check (bbox_x + bbox_width)': {'FAIL': Int64Index([565], dtype='int64')},\n",
       " 'Bbox Parameter Check (bbox_y + )': {'PASS': None},\n",
       " 'Bbox Parameter Check (bbox_y + bbox_height)': {'PASS': None},\n",
       " 'Image Parameter Check (image_width)': {'PASS': None},\n",
       " 'Image Parameter Check (image_height)': {'PASS': None},\n",
       " 'Image Name and Number Match Check (bbox)': {'PASS': None},\n",
       " 'HSparrows and Bboxes Number Check': {'PASS': None}}"
      ]
     },
     "execution_count": 15,
     "metadata": {},
     "output_type": "execute_result"
    }
   ],
   "source": [
    "validation_results"
   ]
  },
  {
   "cell_type": "code",
   "execution_count": 16,
   "id": "13f06f0d",
   "metadata": {},
   "outputs": [
    {
     "data": {
      "text/plain": [
       "image_name     43661281862_5d2a15a38c_w.jpg\n",
       "bbox_x                                  343\n",
       "bbox_width                               57\n",
       "image_width                             399\n",
       "Name: 565, dtype: object"
      ]
     },
     "execution_count": 16,
     "metadata": {},
     "output_type": "execute_result"
    }
   ],
   "source": [
    "# Show the result of the failed check\n",
    "failed_check_result = img_bbox_df[['image_name', 'bbox_x', 'bbox_width', 'image_width']].iloc[565]\n",
    "\n",
    "failed_check_result"
   ]
  }
 ],
 "metadata": {
  "kernelspec": {
   "display_name": "Python 3.9.13 ('env': venv)",
   "language": "python",
   "name": "python3"
  },
  "language_info": {
   "codemirror_mode": {
    "name": "ipython",
    "version": 3
   },
   "file_extension": ".py",
   "mimetype": "text/x-python",
   "name": "python",
   "nbconvert_exporter": "python",
   "pygments_lexer": "ipython3",
   "version": "3.9.13"
  },
  "vscode": {
   "interpreter": {
    "hash": "b2ab1ef63cc1d0e1338c1d8132759d9e4f4760c8169058413a208056ba3b8064"
   }
  }
 },
 "nbformat": 4,
 "nbformat_minor": 5
}
